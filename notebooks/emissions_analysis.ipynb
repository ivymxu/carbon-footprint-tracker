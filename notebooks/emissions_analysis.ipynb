{
 "cells": [
  {
   "cell_type": "markdown",
   "metadata": {},
   "source": [
    "## Emissions Data Collection"
   ]
  },
  {
   "cell_type": "code",
   "execution_count": null,
   "metadata": {},
   "outputs": [],
   "source": [
    "import pandas as pd\n",
    "import matplotlib.pyplot as plt\n",
    "import seaborn as sns"
   ]
  },
  {
   "cell_type": "code",
   "execution_count": null,
   "metadata": {},
   "outputs": [],
   "source": [
    "data = pd.read_csv('/workspaces/carbonft/data/food_emissions.csv')"
   ]
  },
  {
   "cell_type": "code",
   "execution_count": null,
   "metadata": {},
   "outputs": [],
   "source": [
    "print(data.head())"
   ]
  },
  {
   "cell_type": "code",
   "execution_count": null,
   "metadata": {},
   "outputs": [],
   "source": [
    "# Data filtering and cleaning\n",
    "\n",
    "df_cleaned = data.dropna()\n",
    "\n",
    "df_filtered = df_cleaned[(df_cleaned['Year'] == 2018) & (df_cleaned['Element'] == 'Direct emissions (N2O)')]"
   ]
  },
  {
   "cell_type": "code",
   "execution_count": null,
   "metadata": {},
   "outputs": [],
   "source": [
    "# Data aggregation\n",
    "df_aggregated = df_filtered.groupby('Item').agg({'Value': 'sum'}).reset_index()"
   ]
  },
  {
   "cell_type": "code",
   "execution_count": null,
   "metadata": {},
   "outputs": [],
   "source": [
    "# Data visualization\n",
    "plt.figure(figsize=(10, 6))\n",
    "sns.barplot(x='Food Item', y='Emissions', data=data)\n",
    "plt.title('Emissions from Different Food Items')\n",
    "plt.xticks(rotation=45)\n",
    "plt.xlabel('Food Item')\n",
    "plt.ylabel('Emissions (kg CO2e)')\n",
    "plt.show()"
   ]
  }
 ],
 "metadata": {
  "language_info": {
   "name": "python"
  }
 },
 "nbformat": 4,
 "nbformat_minor": 2
}
